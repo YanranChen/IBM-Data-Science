{
 "cells": [
  {
   "cell_type": "markdown",
   "id": "8c18a143-eb0f-4a6d-8d19-6c1628d64b5f",
   "metadata": {},
   "source": [
    "### Module 1 \n",
    "# Overview of Data Science Tools\n",
    "\n",
    "## Objectives\n",
    "---\n",
    "- Describe the components of a Data Scientist's toolkit and list various tool categories\n",
    "- List examples of Open Source, Commercial, and Cloud-based tools in various categories\n",
    "\n",
    "\n",
    "## DS Task Categories\n",
    "---\n",
    "![alt text](ds_tasks_diagram.png)\n",
    " - **Data Management Tools** - Facilitates the storage, organization, and retrieval of data. Includes Relational Databases, NoSQL Databases, and Big Data platforms.\n",
    " - **Data Integration and Transformation Tools** - Streamlines data pipelines and automate data processing workflows. Task of data integration and transformation in the classic data warehousing world is to Extract, Transform, and Load (ETL).\n",
    " - **Data Visualization Tools** - Provides graphical representation of data and assist with communicating insights.\n",
    " - **Model Deployment, Monitoring and Assessment Tools** - Supports the building, deploying, monitoring, and evaluation of data and machine learning models.\n",
    " - **Data Asset Management Tools** - Organizes and manages data, enforce access controls, and ensure asset backups.\n",
    " - **Code Development and Execution Tools** - Provides environments for developing, testing, and deploying code, offering computational resources to execute it.\n",
    " - **Code Asset Management Tools** - Enables the storage and management of code, track changes, and support collaborative development.\n",
    "\n",
    "## Tools for DS tasks\n",
    "---\n",
    "### 1. Data management\n",
    "  - **Open Source tools:** MySQL, PostgreSQL, MongoDB, Apache CouchDB, Apache Cassandra, Hadoop File System, Ceph, and elastic search\n",
    "  - **Commercial tools:**\n",
    "  - **Cloud-based tools:**\n",
    "### 2. Data integration and transformation\n",
    "  - Apache AirFlow, KubeFlow, Apache Kafka, Apache Nifi, Apache SparkSQL, and NodeRED.\n",
    "### 3. Data Visualization\n",
    "  - Pixie Dust, Hue, Kibana, and Apache Superset.\n",
    "### 4. Model development\n",
    "  - IBM Watson Studio, IBM AutoAI, IBM Watson OpenScale, IBM Watson Machine Learning\n",
    "### 5. Model deployment\n",
    "  - Apache PredictionIO, Seldon, Kubernetes, Redhat OpenShift, Mleap, TensorFlow service, TensorFlow lite, and TensorFlow dot JS.\n",
    "### 6. Model monitoring and assessment\n",
    "  - ModelDB, Prometheus, IBM AI Fairness 360, IBM Adversarial Robustness 360 Toolbox, and IBM AI Explainability 360.\n",
    "### 7. Code asset management\n",
    "  - Git, GitHub, GitLab, and Bitbucket.\n",
    "### 8. Data asset management\n",
    "  - Apache Atlas, ODPi Egeria, and Kylo.\n",
    "### 9. Development environments\n",
    "  - Jupyter Notebooks, JupyterLab, Apache Zeppelin, RStudio, Spyder\n",
    "  - Apache Spark\n",
    "    - provides cluster execution, environment\n",
    "    - provides liner scalability \n",
    "\n",
    "\n",
    "\n"
   ]
  },
  {
   "cell_type": "markdown",
   "id": "d6e3c097-824a-4c34-bf2b-2e060ef9996c",
   "metadata": {},
   "source": [
    "## Commercial Tools\n",
    "---\n",
    "| DS Task Category | Commercial Tools |\n",
    "| :--------------: |:---------------- |\n",
    "| Data management  | Oracle Database, MS SQL Server, IBM DB2|\n",
    "| Data Integration | Informatica PowerCenter, IBM Infosphere DataStage, Talend, Watson Studio Desktop |\n",
    "| Data Visualization | Tableau, MS PowerBI, IBM Cognos Analytics |\n",
    "| Model Building   | SPSS, SAS |\n",
    "| Data Asset Management | Infomatica, IBM |\n",
    "| Development Environment | Watson Studio, H2O.ai |\n",
    "\n",
    "Code management are mostly open source\n",
    "\n",
    "## Cloud based Tools\n",
    "---\n",
    "| DS Task Category | Cloud-based Tools |\n",
    "| :--------------: |:---------------- |\n",
    "| Data management  | Amazon DynamoDB, Cloudant, IBM DB2|\n",
    "| Data Integration & Transformation | Informatica Cloud Data Integration, IBM Data Refinery|\n",
    "| Data Visualization | Datameer, IBM Cognos Analytics |\n",
    "| Model Building   | Watson Machine Learning, Google AI Platform |\n",
    "| Model Building   | IBM SSPS Colaboration and service, Amazon SageMaker Model Monitor|"
   ]
  },
  {
   "cell_type": "code",
   "execution_count": null,
   "id": "b3dc8ee0-5bb7-4d5b-ab5f-525c89f2363f",
   "metadata": {},
   "outputs": [],
   "source": []
  }
 ],
 "metadata": {
  "kernelspec": {
   "display_name": "Python 3 (ipykernel)",
   "language": "python",
   "name": "python3"
  },
  "language_info": {
   "codemirror_mode": {
    "name": "ipython",
    "version": 3
   },
   "file_extension": ".py",
   "mimetype": "text/x-python",
   "name": "python",
   "nbconvert_exporter": "python",
   "pygments_lexer": "ipython3",
   "version": "3.8.19"
  }
 },
 "nbformat": 4,
 "nbformat_minor": 5
}
