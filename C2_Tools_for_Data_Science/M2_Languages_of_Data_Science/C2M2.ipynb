{
 "cells": [
  {
   "cell_type": "markdown",
   "id": "f975949e-eaba-49e1-9e18-ee8a6bd16abc",
   "metadata": {},
   "source": [
    "### Module 2\n",
    "# Languages of Data Science\n",
    "## Objectives\n",
    "---\n",
    " - Identify the criteria and roles for determining the language to learn.\n",
    " - Identify the users and benefits of Python.\n",
    " - Identify the users and uses of the R language.\n",
    " - Define SQL elements and list their benefits.\n",
    " - Review languages such as Java, Scala, C++, JavaScript, and Julia.\n",
    " - List the global communities for connecting with other users.\n",
    "\n",
    "## Python\n",
    "---\n",
    " - open source\n",
    " - clear and readable syntax.\n",
    " - has a huge global community and a wealth of documentation\n",
    " - For data science, you can use python's scientific computing libraries like Pandas, NumPy, SciPy, and Matplotlib.\n",
    " - Python can also be used for Natural Language Processing (NLP) using the Natural Language Toolkit (NLTK).\n",
    " - Python community has a well-documented history of paving the way for diversity and inclusion efforts in the tech industry as a whole. - \n",
    "\n",
    "## R\n",
    "--- \n",
    " - free software\n",
    "   - Open source vs free software\n",
    " - R language’s array-oriented syntax makes it easier to translate from math to code for learners with none or minimal programming background. \n",
    " - the world’s largest repository of statistical knowledge\n",
    "\n",
    "## SQL\n",
    "---\n",
    " - SQL is different from other software development languages because it is a non-procedural language.\n",
    " - SQL’s scope is limited to querying and managing data.\n",
    " - SQL was designed for managing data in relational databases.\n",
    " - SQL behaves like an interpreter between you and the database.\n",
    " - And if you learn SQL and use it with one database, you can apply your SQL knowledge to many other databases easily.\n",
    "![alt text](relational_database.png)\n",
    "\n",
    "## Other languages for DS\n",
    "---\n",
    " | Language | Applications |\n",
    " | -------- | :------------ |\n",
    " | Scala    | Apache Spark  |\n",
    " | Java     | Weka, Java-ML, Apache MLlib, Deeplearning4 |\n",
    " | C++      | TensorFlow, MongoDB, Caffe|\n",
    " | JavaScript | TensorFlow.js, R-js |\n",
    " | Julia    | JuliaDB |"
   ]
  },
  {
   "cell_type": "code",
   "execution_count": null,
   "id": "80e98deb-498d-4d4c-ba82-60b98ff98530",
   "metadata": {},
   "outputs": [],
   "source": []
  }
 ],
 "metadata": {
  "kernelspec": {
   "display_name": "Python 3 (ipykernel)",
   "language": "python",
   "name": "python3"
  },
  "language_info": {
   "codemirror_mode": {
    "name": "ipython",
    "version": 3
   },
   "file_extension": ".py",
   "mimetype": "text/x-python",
   "name": "python",
   "nbconvert_exporter": "python",
   "pygments_lexer": "ipython3",
   "version": "3.8.19"
  }
 },
 "nbformat": 4,
 "nbformat_minor": 5
}
