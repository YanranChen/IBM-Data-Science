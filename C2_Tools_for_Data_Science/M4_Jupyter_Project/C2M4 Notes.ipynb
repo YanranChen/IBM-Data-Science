{
 "cells": [
  {
   "cell_type": "markdown",
   "id": "f975949e-eaba-49e1-9e18-ee8a6bd16abc",
   "metadata": {},
   "source": [
    "### Module 4\n",
    "# Jupyter Notebookes and JupyterLab \n",
    "## Objectives\n",
    "---\n",
    " - Describe how to use the notebooks in JupyterLab.\n",
    " - Describe how to work in a notebook session.\n",
    " - Describe the basic Jupyter architecture.\n",
    " - Describe how to work with kernels.\n",
    " - Identify tools in Anaconda Jupyter environments.\n",
    " - Describe cloud based Jupyter environments and their data science features.\n"
   ]
  },
  {
   "cell_type": "markdown",
   "id": "10f41d19-f36d-4a21-8143-7a0fe259f701",
   "metadata": {},
   "source": [
    "## Jupyter Notebook\n",
    "---\n",
    "a browser-based application that allows you to create and share documents containing code, equations, visualizations, narrative text links, and more.\n",
    "\n",
    "## Jupyter Kernel\n",
    "---\n",
    "A notebook kernel is a computational engine that executes the code contained in a Notebook file"
   ]
  },
  {
   "cell_type": "code",
   "execution_count": null,
   "id": "58bcd483-c2bc-425d-b29d-c05b7b919e14",
   "metadata": {},
   "outputs": [],
   "source": []
  }
 ],
 "metadata": {
  "kernelspec": {
   "display_name": "Python 3 (ipykernel)",
   "language": "python",
   "name": "python3"
  },
  "language_info": {
   "codemirror_mode": {
    "name": "ipython",
    "version": 3
   },
   "file_extension": ".py",
   "mimetype": "text/x-python",
   "name": "python",
   "nbconvert_exporter": "python",
   "pygments_lexer": "ipython3",
   "version": "3.8.19"
  }
 },
 "nbformat": 4,
 "nbformat_minor": 5
}
