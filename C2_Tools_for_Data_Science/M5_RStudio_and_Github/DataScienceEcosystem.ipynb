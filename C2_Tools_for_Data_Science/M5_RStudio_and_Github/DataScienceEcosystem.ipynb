{
 "cells": [
  {
   "cell_type": "markdown",
   "id": "bb2df452-bd68-40dc-b41c-115bdfd8cdb0",
   "metadata": {},
   "source": [
    "# Data Science Tools and Ecosystem"
   ]
  },
  {
   "cell_type": "markdown",
   "id": "64b5738c-da70-4d56-81b9-885daf798c9d",
   "metadata": {},
   "source": [
    "In this notebook, Data Science Tools and Ecosystem are summarized."
   ]
  },
  {
   "cell_type": "markdown",
   "id": "f67b0113-2fd0-4cfa-a7cd-633ed8a487a2",
   "metadata": {},
   "source": [
    "**Objectives:**\n",
    "- List popular languages for Data Science\n",
    "- List commonly used libraries by Data Scientists\n",
    "- List popular Open Source, Commercial and clould-based tools in various Data Science Task catogories"
   ]
  },
  {
   "cell_type": "markdown",
   "id": "597b2a67-dfb5-42be-9c13-15eca204d0f3",
   "metadata": {},
   "source": [
    "Some of the popular languages that Data Scientists use are:\n",
    "1. Python\n",
    "2. R\n",
    "3. SQL"
   ]
  },
  {
   "cell_type": "markdown",
   "id": "cacaeab6-dc98-40a1-b242-583999a2f16d",
   "metadata": {},
   "source": [
    "Some of the commonly used libraries used by Data Scientists include:\n",
    "1. pandas (Python)\n",
    "2. numpy (Python)\n",
    "3. scikit-learn (Python)"
   ]
  },
  {
   "cell_type": "markdown",
   "id": "6b491653-95bf-489b-9787-de46e3d10c43",
   "metadata": {},
   "source": [
    "| Data Science Tools |\n",
    "| -----------------  |\n",
    "| Jupyter Notebook   |\n",
    "| JupyterLab         |\n",
    "| RStudio            |"
   ]
  },
  {
   "cell_type": "markdown",
   "id": "031a9904-dcde-4f9c-9e01-25b09bb5a360",
   "metadata": {},
   "source": [
    "### Below are a few examples of evaluating arithmetic expressions in Python."
   ]
  },
  {
   "cell_type": "code",
   "execution_count": 13,
   "id": "3b644e80-0838-481a-9ffc-4ec91e690e6f",
   "metadata": {},
   "outputs": [
    {
     "data": {
      "text/plain": [
       "17"
      ]
     },
     "execution_count": 13,
     "metadata": {},
     "output_type": "execute_result"
    }
   ],
   "source": [
    "# This a simple arithmetic expression to mutiply then add integers\n",
    "(3*4)+5"
   ]
  },
  {
   "cell_type": "code",
   "execution_count": 15,
   "id": "21dfb4c0-4495-48e9-a2e2-ad6927f1617d",
   "metadata": {},
   "outputs": [
    {
     "data": {
      "text/plain": [
       "3.3333333333333335"
      ]
     },
     "execution_count": 15,
     "metadata": {},
     "output_type": "execute_result"
    }
   ],
   "source": [
    "# This will convert 200 minutes to hours by diving by 60\n",
    "200 / 60"
   ]
  },
  {
   "cell_type": "markdown",
   "id": "4f9062f2-bc06-43c4-abdc-0bdcda791026",
   "metadata": {},
   "source": [
    "## Author\n",
    "Yanran Chen"
   ]
  }
 ],
 "metadata": {
  "kernelspec": {
   "display_name": "Python 3 (ipykernel)",
   "language": "python",
   "name": "python3"
  },
  "language_info": {
   "codemirror_mode": {
    "name": "ipython",
    "version": 3
   },
   "file_extension": ".py",
   "mimetype": "text/x-python",
   "name": "python",
   "nbconvert_exporter": "python",
   "pygments_lexer": "ipython3",
   "version": "3.8.19"
  }
 },
 "nbformat": 4,
 "nbformat_minor": 5
}
