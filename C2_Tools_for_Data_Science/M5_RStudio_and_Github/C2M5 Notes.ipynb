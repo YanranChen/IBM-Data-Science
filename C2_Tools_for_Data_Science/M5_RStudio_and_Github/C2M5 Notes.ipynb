{
 "cells": [
  {
   "cell_type": "markdown",
   "id": "f975949e-eaba-49e1-9e18-ee8a6bd16abc",
   "metadata": {},
   "source": [
    "### Module 5\n",
    "# RStudio and GitHub\n",
    "## Objectives\n",
    "---\n",
    " - Describe R capabilities and RStudio environment.\n",
    " - Use the inbuilt R plot function.\n",
    " - Explain version control and describe the Git and GitHub environment.\n",
    " - Describe the purpose of source repositories and explain how GitHub satisfies the needs of a source repository.\n",
    " - Create a GitHub account and a project repository.\n",
    " - Demonstrate how to edit and upload files in GitHub.\n",
    " - Explain the purpose of branches and how to merge changes."
   ]
  },
  {
   "cell_type": "markdown",
   "id": "9dbb02c7-3f2d-49d9-a66d-de1005b9c6b4",
   "metadata": {},
   "source": [
    "## Plotting in R Studio\n",
    "---\n",
    "Popular data visualization packages:\n",
    "- **ggplot** is used for data visualizations such as histograms, bar charts, scatterplots, and so on. It allows adding layers and components to a single visualization.\n",
    "- **Plotly** is used for web-based data visualizations that can be displayed or saved as individual HTML files.\n",
    "- **Lattice** is used to implement complex, multi-variable data sets. It is a high-level data visualization library that can handle graphics without customizations.\n",
    "- **Leaflet** is used for creating interactive plots."
   ]
  },
  {
   "cell_type": "markdown",
   "id": "ba777764-719d-4bad-b88c-ce83ac510730",
   "metadata": {},
   "source": [
    "## Git and GitHub\n",
    "---\n",
    "### Git\n",
    "- free and open source\n",
    "- distributed version-control system\n",
    "- accessible everywhere in the world\n",
    "- **GitHub** is an online hosting service for Git repositories, hosted by a subsidiary of Microsoft.\n",
    "\n",
    "#### Basic Git Commands\n",
    "https://try.github.io\n",
    "- init\n",
    "- add\n",
    "- status\n",
    "- commit\n",
    "- reset\n",
    "- log\n",
    "- branch\n",
    "- checkout\n",
    "- merge\n",
    "\n",
    "### GitHub\n",
    "**GitHub** is an online hosting service for Git repositories, hosted by a subsidiary of Microsoft.\n",
    "\n",
    "#### Repository\n",
    "**Repositories** store documents including application source code and enable contributors to track and maintain version-control.\n",
    "\n",
    "#### Branch\n",
    "A **branch** is a snapshot of your repository to which you can make changes.\n",
    "- Master branch is the official version of the project.\n",
    "- A child branch is a copy of the master branch\n",
    "  - Edits and and changes are made in the child branch\n",
    "  - Tests are done to ensure quality before merging with the master branch.\n",
    "![alt text](branch_1.png)\n",
    "- Branches allow for simultaneous development and testing by multiple users\n",
    "![alt text](branch_2.png)\n",
    "\n",
    "#### Pull request (PR)\n",
    "A **pull request** shows the differences in the content from both branches. It can notify other team members of the changes and edits to the main branch. Ideally, another team member reviews the changes and approves them to be merged with the Master branch."
   ]
  },
  {
   "cell_type": "code",
   "execution_count": null,
   "id": "8ec5ddc1-7438-43ab-b49b-ac7aa3b0d3bf",
   "metadata": {},
   "outputs": [],
   "source": []
  }
 ],
 "metadata": {
  "kernelspec": {
   "display_name": "Python 3 (ipykernel)",
   "language": "python",
   "name": "python3"
  },
  "language_info": {
   "codemirror_mode": {
    "name": "ipython",
    "version": 3
   },
   "file_extension": ".py",
   "mimetype": "text/x-python",
   "name": "python",
   "nbconvert_exporter": "python",
   "pygments_lexer": "ipython3",
   "version": "3.8.19"
  }
 },
 "nbformat": 4,
 "nbformat_minor": 5
}
